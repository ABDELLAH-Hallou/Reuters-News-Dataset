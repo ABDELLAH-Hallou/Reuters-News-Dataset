{
 "cells": [
  {
   "cell_type": "code",
   "execution_count": null,
   "metadata": {},
   "outputs": [],
   "source": [
    "# !pip install pandas"
   ]
  },
  {
   "cell_type": "code",
   "execution_count": null,
   "metadata": {},
   "outputs": [],
   "source": [
    "import pandas as pd"
   ]
  },
  {
   "cell_type": "code",
   "execution_count": null,
   "metadata": {},
   "outputs": [],
   "source": [
    "df = pd.read_csv(\"./reutersData.csv\")"
   ]
  },
  {
   "attachments": {},
   "cell_type": "markdown",
   "metadata": {},
   "source": [
    "# Data Cleaning"
   ]
  },
  {
   "cell_type": "code",
   "execution_count": null,
   "metadata": {},
   "outputs": [],
   "source": [
    "# concatenate Date and Time columns\n",
    "datetime_str = df['Date'] + ' ' + df['Time']\n",
    "\n",
    "# convert datetime string to datetime object\n",
    "df['Date'] = pd.to_datetime(datetime_str, format='%B %d, %Y %I:%M %p %Z')"
   ]
  },
  {
   "cell_type": "code",
   "execution_count": null,
   "metadata": {},
   "outputs": [],
   "source": [
    "df = df[[\"Topics\",\"Menus\",\"Title_x\",\"Author\",\"Date\",\"Image\",\"Article\"]] #selects only the columns needed for the analysis.\n",
    "df = df.rename(columns={'Title_x': 'Title','Article':'Text','Author':'Authors','Image':'Images'}) #  renames certain columns for easier understanding.\n",
    "#  drops any duplicate rows in the DataFrame.\n",
    "df = df.drop_duplicates()"
   ]
  },
  {
   "cell_type": "code",
   "execution_count": null,
   "metadata": {},
   "outputs": [],
   "source": [
    "df.to_csv('./CleanedreutersData.csv', index=False) #exports the cleaned DataFrame to a new CSV file without an index."
   ]
  }
 ],
 "metadata": {
  "kernelspec": {
   "display_name": ".venv",
   "language": "python",
   "name": "python3"
  },
  "language_info": {
   "codemirror_mode": {
    "name": "ipython",
    "version": 3
   },
   "file_extension": ".py",
   "mimetype": "text/x-python",
   "name": "python",
   "nbconvert_exporter": "python",
   "pygments_lexer": "ipython3",
   "version": "3.10.5"
  },
  "orig_nbformat": 4
 },
 "nbformat": 4,
 "nbformat_minor": 2
}
