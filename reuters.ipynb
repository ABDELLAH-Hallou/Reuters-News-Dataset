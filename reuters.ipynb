{
 "cells": [
  {
   "cell_type": "code",
   "execution_count": 1,
   "metadata": {},
   "outputs": [
    {
     "name": "stdout",
     "output_type": "stream",
     "text": [
      "Collecting requests\n",
      "  Using cached requests-2.28.2-py3-none-any.whl (62 kB)\n",
      "Requirement already satisfied: urllib3<1.27,>=1.21.1 in c:\\abdellah\\dsl internship\\data engineering\\assignment\\.venv\\lib\\site-packages (from requests) (1.26.14)\n",
      "Collecting charset-normalizer<4,>=2\n",
      "  Using cached charset_normalizer-3.0.1-cp310-cp310-win_amd64.whl (96 kB)\n",
      "Requirement already satisfied: idna<4,>=2.5 in c:\\abdellah\\dsl internship\\data engineering\\assignment\\.venv\\lib\\site-packages (from requests) (3.4)\n",
      "Requirement already satisfied: certifi>=2017.4.17 in c:\\abdellah\\dsl internship\\data engineering\\assignment\\.venv\\lib\\site-packages (from requests) (2022.12.7)\n",
      "Installing collected packages: charset-normalizer, requests\n",
      "Successfully installed charset-normalizer-3.0.1 requests-2.28.2\n"
     ]
    }
   ],
   "source": [
    "# !pip install beautifulsoup4\n",
    "# !pip install selenium\n",
    "# !pip install requests"
   ]
  },
  {
   "cell_type": "code",
   "execution_count": 1,
   "metadata": {},
   "outputs": [],
   "source": [
    "import requests\n",
    "from bs4 import BeautifulSoup\n"
   ]
  },
  {
   "cell_type": "code",
   "execution_count": 14,
   "metadata": {},
   "outputs": [],
   "source": [
    "url = \"https://www.reuters.com\"\n",
    "\n",
    "r = requests.get(url)\n",
    "soup = BeautifulSoup(r.content, \"html.parser\")\n"
   ]
  },
  {
   "cell_type": "code",
   "execution_count": 15,
   "metadata": {},
   "outputs": [],
   "source": [
    "categories = soup.find_all(\"a\",{\n",
    "    \"class\":\"text__text__1FZLe text__dark-grey__3Ml43 text__medium__1kbOh text__default__UPMUu nav-bar__link__3mja8\"\n",
    "})"
   ]
  },
  {
   "cell_type": "code",
   "execution_count": 53,
   "metadata": {},
   "outputs": [
    {
     "data": {
      "text/plain": [
       "[{'category': 'World', 'link': '/world/'},\n",
       " {'category': 'Business', 'link': '/business/'},\n",
       " {'category': 'Legal', 'link': '/legal/'},\n",
       " {'category': 'Markets', 'link': '/markets/'},\n",
       " {'category': 'Technology', 'link': '/technology/'}]"
      ]
     },
     "execution_count": 53,
     "metadata": {},
     "output_type": "execute_result"
    }
   ],
   "source": [
    "\n",
    "categoriesLinks =  []\n",
    "for category in categories:\n",
    "    categoriesLinks.append({\n",
    "        \"category\":category.text.strip(),\n",
    "        \"link\":category['href']\n",
    "    })\n",
    "categoriesLinks"
   ]
  },
  {
   "cell_type": "code",
   "execution_count": 54,
   "metadata": {},
   "outputs": [
    {
     "data": {
      "text/plain": [
       "[{'category': 'World',\n",
       "  'link': 'https://www.reuters.com/world/',\n",
       "  'topics': [{'Menus': '/world/africa/', 'Topics': 'Africa'},\n",
       "   {'Menus': '/world/americas/', 'Topics': 'Americas'},\n",
       "   {'Menus': '/world/asia-pacific/', 'Topics': 'Asia Pacific'},\n",
       "   {'Menus': '/world/china/', 'Topics': 'China'},\n",
       "   {'Menus': '/world/europe/', 'Topics': 'Europe'},\n",
       "   {'Menus': '/world/india/', 'Topics': 'India'},\n",
       "   {'Menus': '/world/middle-east/', 'Topics': 'Middle East'},\n",
       "   {'Menus': '/world/uk/', 'Topics': 'United Kingdom'},\n",
       "   {'Menus': '/world/us/', 'Topics': 'United States'},\n",
       "   {'Menus': '/world/reuters-next/', 'Topics': 'Reuters Next'}]},\n",
       " {'category': 'Business',\n",
       "  'link': 'https://www.reuters.com/business/',\n",
       "  'topics': [{'Menus': '/business/aerospace-defense/',\n",
       "    'Topics': 'Aerospace & Defense'},\n",
       "   {'Menus': '/business/autos-transportation/',\n",
       "    'Topics': 'Autos & Transportation'},\n",
       "   {'Menus': '/business/energy/', 'Topics': 'Energy'},\n",
       "   {'Menus': '/business/environment/', 'Topics': 'Environment'},\n",
       "   {'Menus': '/business/finance/', 'Topics': 'Finance'},\n",
       "   {'Menus': '/business/healthcare-pharmaceuticals/',\n",
       "    'Topics': 'Healthcare & Pharmaceuticals'},\n",
       "   {'Menus': '/business/media-telecom/', 'Topics': 'Media & Telecom'},\n",
       "   {'Menus': '/business/retail-consumer/', 'Topics': 'Retail & Consumer'},\n",
       "   {'Menus': '/business/sustainable-business/',\n",
       "    'Topics': 'Sustainable Business'},\n",
       "   {'Menus': '/business/charged/', 'Topics': 'Charged'},\n",
       "   {'Menus': '/business/future-of-health/', 'Topics': 'Future of Health'},\n",
       "   {'Menus': '/business/future-of-money/', 'Topics': 'Future of Money'},\n",
       "   {'Menus': '/business/take-five/', 'Topics': 'Take Five'},\n",
       "   {'Menus': '/business/reuters-impact/', 'Topics': 'Reuters Impact'},\n",
       "   {'Menus': '/business/world-at-work/', 'Topics': 'World at Work'}]},\n",
       " {'category': 'Legal', 'link': 'https://www.reuters.com/legal/', 'topics': []},\n",
       " {'category': 'Markets',\n",
       "  'link': 'https://www.reuters.com/markets/',\n",
       "  'topics': [{'Menus': '/markets/asia/', 'Topics': 'Asian Markets'},\n",
       "   {'Menus': '/markets/carbon/', 'Topics': 'Carbon Markets'},\n",
       "   {'Menus': '/markets/commodities/', 'Topics': 'Commodities'},\n",
       "   {'Menus': '/markets/currencies/', 'Topics': 'Currencies'},\n",
       "   {'Menus': '/markets/deals/', 'Topics': 'Deals'},\n",
       "   {'Menus': '/markets/emerging/', 'Topics': 'Emerging Markets'},\n",
       "   {'Menus': '/markets/europe/', 'Topics': 'European Markets'},\n",
       "   {'Menus': '/markets/funds/', 'Topics': 'Funds'},\n",
       "   {'Menus': '/markets/global-market-data/', 'Topics': 'Global Market Data'},\n",
       "   {'Menus': '/markets/rates-bonds/', 'Topics': 'Rates & Bonds'},\n",
       "   {'Menus': '/markets/stocks/', 'Topics': 'Stocks'},\n",
       "   {'Menus': '/markets/us/', 'Topics': 'U.S. Markets'},\n",
       "   {'Menus': '/markets/wealth/', 'Topics': 'Wealth'},\n",
       "   {'Menus': '/markets/macromatters/', 'Topics': 'Macro Matters'}]},\n",
       " {'category': 'Technology',\n",
       "  'link': 'https://www.reuters.com/technology/',\n",
       "  'topics': [{'Menus': '/technology/disrupted/', 'Topics': 'Disrupted'},\n",
       "   {'Menus': '/technology/reuters-momentum/', 'Topics': 'Reuters Momentum'}]}]"
      ]
     },
     "execution_count": 54,
     "metadata": {},
     "output_type": "execute_result"
    }
   ],
   "source": [
    "for category in categoriesLinks:\n",
    "    categoryUrl = url+category[\"link\"]\n",
    "    category[\"link\"] = categoryUrl\n",
    "    request = requests.get(categoryUrl)\n",
    "    categorySoup= BeautifulSoup(request.content, \"html.parser\")\n",
    "    buttons = categorySoup.find_all(\n",
    "        \"button\",\n",
    "        {\"class\":\"button__button__2Ecqi button__secondary__18moI button__pill__2LA8V text-button__container__3q3zX\"}\n",
    "        )\n",
    "    category[\"topics\"] = []\n",
    "    for button in buttons: \n",
    "        topic = button.find(\n",
    "             \"span\",\n",
    "             {\"class\":\"text__text__1FZLe text__inherit-color__3208F text__bold__2-8Kc text__default__UPMUu text-button__medium__113uZ\"}\n",
    "             )\n",
    "        category[\"topics\"].append({\n",
    "            \"Menus\":button[\"data-id\"],\n",
    "            \"Topics\":topic.text.strip()\n",
    "        })\n",
    "categoriesLinks\n",
    "\n",
    "    \n",
    "    \n",
    "    "
   ]
  },
  {
   "cell_type": "code",
   "execution_count": 11,
   "metadata": {},
   "outputs": [
    {
     "name": "stdout",
     "output_type": "stream",
     "text": [
      "Analysis: China's chip sector needs more than state money to dull impact of US restrictions\n",
      "Former top Credit Suisse shareholder sells full stake in bank\n",
      "Turkish competition board says fines Elon Musk over Twitter takeover\n",
      "Tesla cuts U.S. Model S and Model X prices between 4% and 9%\n",
      "Ford taps masses of vehicle data to stay ahead in commercial van market\n",
      "Analysis: Foxconn races to become an EV player and the clock is ticking\n",
      "Analysis: Chinese companies hang onto dollars, hedge to prepare for volatile yuan\n",
      "Wagner chief says Russian position at Bakhmut at risk without promised ammunition, article with gallery\n",
      "South Korea says its own companies will pay to resolve forced labour dispute with Japan\n",
      "Morning Bid: Hopeful market awaits Powell testimony, article with image\n",
      "Nannies on call, spas; India witnessing 'mad rush' for luxury housing, article with gallery\n",
      "South Korean romance reality shows boom, but marriage no longer the end game, article with gallery\n",
      "Suicide bombing in southwest Pakistan kills nine policemen\n",
      "Indonesia to tighten used shoe import controls after Reuters report, article with image\n",
      "Taiwan warns of China military's 'sudden entry' close to island, article with image\n",
      "China leans on coal amid energy security push, article with image\n",
      "Sydney swelters through autumn heatwave, bushfire threat looms, article with gallery\n",
      "US soldiers receive Muay Thai lessons from Thai champion, article with gallery\n",
      "U.S. defense secretary aims to reassure Mideast allies, deliver tough message, article with image\n",
      "Israeli reserve pilots ditch drill in protest at judicial overhaul, article with image\n",
      "Qatar’s emir criticises delay in aid to earthquake victims in Syria, article with image\n",
      "Netanyahu rebuffs IAEA chief's remarks against possible attack on Iran, article with image\n",
      "Maryland ex-governor won't run for U.S. president, article with image\n",
      "TikTok a potential target in upcoming US bill to ban some foreign tech - Senator, article with gallery\n",
      "Another Norfolk Southern train derails in Ohio; railroad says no toxins aboard, article with video\n",
      "In Selma, Biden presses for voting rights on 'Bloody Sunday' anniversary, article with video\n",
      "Djokovic withdraws from Indian Wells amid U.S. visa row, article with image\n",
      "Lethal Liverpool smash Manchester United for seven in record win, article with gallery\n",
      "Black Ferns secure Olympic berth with fourth world series title, article with image\n",
      "Vekic back to winning ways in Monterrey after injury woes, article with image\n",
      "The week in pictures, article with image\n",
      "Turkish families shelter on a train after earthquake brought life to a standstill, article with image\n",
      "George Santos: Behind-the-scenes photos of the embattled congressman, article with image\n",
      "Pierre Cardin returns to Paris Fashion Week with space age lineup, article with gallery\n",
      "Scientists reveal hidden corridor in Great Pyramid of Giza, article with video\n",
      "Holy oil for King Charles' coronation consecrated in Jerusalem, article with video\n",
      "Archaeologists find well-preserved 500-year-old spices on Baltic shipwreck, article with gallery\n"
     ]
    }
   ],
   "source": [
    "articles = soup.find_all(\"a\",{\n",
    "    \"class\":\"heading__base__2T28j\"\n",
    "})\n",
    "# Print the headlines\n",
    "for headline in articles:\n",
    "    print(headline.text.strip())"
   ]
  }
 ],
 "metadata": {
  "kernelspec": {
   "display_name": ".venv",
   "language": "python",
   "name": "python3"
  },
  "language_info": {
   "codemirror_mode": {
    "name": "ipython",
    "version": 3
   },
   "file_extension": ".py",
   "mimetype": "text/x-python",
   "name": "python",
   "nbconvert_exporter": "python",
   "pygments_lexer": "ipython3",
   "version": "3.10.5"
  },
  "orig_nbformat": 4
 },
 "nbformat": 4,
 "nbformat_minor": 2
}
